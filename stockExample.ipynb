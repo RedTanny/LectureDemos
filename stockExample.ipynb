{
 "cells": [
  {
   "cell_type": "code",
   "execution_count": null,
   "metadata": {},
   "outputs": [],
   "source": [
    "!pip install yfinance --upgrade --no-cache-dir\n",
    "!pip install plotly==5.24.0\n",
    "!pip install nbformat\n",
    "!pip install -U kaleido\n",
    "\n"
   ]
  },
  {
   "cell_type": "markdown",
   "metadata": {},
   "source": [
    "Check Ploty Is working"
   ]
  },
  {
   "cell_type": "code",
   "execution_count": null,
   "metadata": {},
   "outputs": [],
   "source": [
    "import plotly.express as px\n",
    "fig = px.bar(x=[\"a\", \"b\", \"c\"], y=[1, 3, 2])\n",
    "fig.show()"
   ]
  },
  {
   "cell_type": "markdown",
   "metadata": {},
   "source": [
    "Check Yfinance Is working"
   ]
  },
  {
   "cell_type": "code",
   "execution_count": null,
   "metadata": {},
   "outputs": [],
   "source": [
    "import yfinance as yf\n",
    "msft = yf.Ticker(\"MSFT\")\n",
    "print(msft.info)"
   ]
  },
  {
   "cell_type": "markdown",
   "metadata": {},
   "source": [
    "Get Stock history"
   ]
  },
  {
   "cell_type": "code",
   "execution_count": null,
   "metadata": {},
   "outputs": [],
   "source": [
    "data = yf.Ticker(\"MSFT\")\n",
    "hist = msft.history(period=\"1mo\")\n",
    "hist = hist.reset_index()\n",
    "print(type(hist))\n",
    "print(hist)"
   ]
  },
  {
   "cell_type": "markdown",
   "metadata": {},
   "source": [
    "Import packages and class\n"
   ]
  },
  {
   "cell_type": "code",
   "execution_count": 5,
   "metadata": {},
   "outputs": [],
   "source": [
    "import os\n",
    "import yfinance as yf\n",
    "import pandas as pd\n",
    "\n",
    "from datetime import date\n",
    "from langchain_groq import ChatGroq\n",
    "from langchain_core.tools import tool\n",
    "from langchain_core.messages import AIMessage, SystemMessage, HumanMessage, ToolMessage\n",
    "\n",
    "import plotly.graph_objects as go"
   ]
  },
  {
   "cell_type": "markdown",
   "metadata": {},
   "source": [
    "Define Functions tools for LLM Callback </br>\n",
    "Utilize Python decorators to designate callback functions. Decorators are a versatile mechanism that enables you to modify or extend the behavior of a function without altering its original code, making them ideal for marking and managing callback functions in LLM applications."
   ]
  },
  {
   "cell_type": "code",
   "execution_count": 6,
   "metadata": {},
   "outputs": [],
   "source": [
    "@tool\n",
    "def get_stock_info(symbol, key):\n",
    "    '''Return the correct stock info value given the appropriate symbol and key. Infer valid key from the user prompt; it must be one of the following:\n",
    "    address1, city, state, zip, country, phone, website, industry, industryKey, industryDisp, sector, sectorKey, sectorDisp, longBusinessSummary, fullTimeEmployees, companyOfficers, auditRisk, boardRisk, compensationRisk, shareHolderRightsRisk, overallRisk, governanceEpochDate, compensationAsOfEpochDate, maxAge, priceHint, previousClose, open, dayLow, dayHigh, regularMarketPreviousClose, regularMarketOpen, regularMarketDayLow, regularMarketDayHigh, dividendRate, dividendYield, exDividendDate, beta, trailingPE, forwardPE, volume, regularMarketVolume, averageVolume, averageVolume10days, averageDailyVolume10Day, bid, ask, bidSize, askSize, marketCap, fiftyTwoWeekLow, fiftyTwoWeekHigh, priceToSalesTrailing12Months, fiftyDayAverage, twoHundredDayAverage, currency, enterpriseValue, profitMargins, floatShares, sharesOutstanding, sharesShort, sharesShortPriorMonth, sharesShortPreviousMonthDate, dateShortInterest, sharesPercentSharesOut, heldPercentInsiders, heldPercentInstitutions, shortRatio, shortPercentOfFloat, impliedSharesOutstanding, bookValue, priceToBook, lastFiscalYearEnd, nextFiscalYearEnd, mostRecentQuarter, earningsQuarterlyGrowth, netIncomeToCommon, trailingEps, forwardEps, pegRatio, enterpriseToRevenue, enterpriseToEbitda, 52WeekChange, SandP52WeekChange, lastDividendValue, lastDividendDate, exchange, quoteType, symbol, underlyingSymbol, shortName, longName, firstTradeDateEpochUtc, timeZoneFullName, timeZoneShortName, uuid, messageBoardId, gmtOffSetMilliseconds, currentPrice, targetHighPrice, targetLowPrice, targetMeanPrice, targetMedianPrice, recommendationMean, recommendationKey, numberOfAnalystOpinions, totalCash, totalCashPerShare, ebitda, totalDebt, quickRatio, currentRatio, totalRevenue, debtToEquity, revenuePerShare, returnOnAssets, returnOnEquity, freeCashflow, operatingCashflow, earningsGrowth, revenueGrowth, grossMargins, ebitdaMargins, operatingMargins, financialCurrency, trailingPegRatio\n",
    "\n",
    "    If asked generically for 'stock price', use currentPrice\n",
    "    '''\n",
    "    data = yf.Ticker(symbol)\n",
    "    stock_info = data.info\n",
    "    return stock_info[key]\n",
    "\n",
    "\n",
    "@tool\n",
    "def get_historical_price(symbol, start_date, end_date):\n",
    "    \"\"\"\n",
    "    Fetches historical stock prices for a given symbol from 'start_date' to 'end_date'.\n",
    "    - symbol (str): Stock ticker symbol.\n",
    "    - end_date (date): Typically today unless a specific end date is provided. End date MUST be greater than start date\n",
    "    - start_date (date): Set explicitly, or calculated as 'end_date - date interval' (for example, if prompted 'over the past 6 months', date interval = 6 months so start_date would be 6 months earlier than today's date). Default to '1900-01-01' if vaguely asked for historical price. Start date must always be before the current date\n",
    "    \"\"\"\n",
    "\n",
    "    data = yf.Ticker(symbol)\n",
    "    hist = data.history(start=start_date, end=end_date)\n",
    "    hist = hist.reset_index()\n",
    "    hist[symbol] = hist['Close']\n",
    "    return hist[['Date', symbol]]\n"
   ]
  },
  {
   "cell_type": "markdown",
   "metadata": {},
   "source": [
    "Graph Function"
   ]
  },
  {
   "cell_type": "code",
   "execution_count": 7,
   "metadata": {},
   "outputs": [],
   "source": [
    "from IPython.display import Image, display\n",
    "def plot_price_over_time(historical_price_dfs):\n",
    "\n",
    "    full_df = pd.DataFrame(columns = ['Date'])\n",
    "    for df in historical_price_dfs:\n",
    "        full_df = full_df.merge(df, on = 'Date', how = 'outer')\n",
    "\n",
    "    # Create a Plotly figure\n",
    "    fig = go.Figure()\n",
    "\n",
    "    # Dynamically add a trace for each stock symbol in the DataFrame\n",
    "    for column in full_df.columns[1:]:  # Skip the first column since it's the date\n",
    "        fig.add_trace(go.Scatter(x=full_df['Date'], y=full_df[column], mode='lines+markers', name=column))\n",
    "\n",
    "\n",
    "    # Update the layout to add titles and format axis labels\n",
    "    fig.update_layout(\n",
    "        title='Stock Price Over Time: ' + ', '.join(full_df.columns.tolist()[1:]),\n",
    "        xaxis_title='Date',\n",
    "        yaxis_title='Stock Price (USD)',\n",
    "        yaxis_tickprefix='$',\n",
    "        yaxis_tickformat=',.2f',\n",
    "        xaxis=dict(\n",
    "            tickangle=-45,\n",
    "            nticks=20,\n",
    "            tickfont=dict(size=10),\n",
    "        ),\n",
    "        yaxis=dict(\n",
    "            showgrid=True,   # Enable y-axis grid lines\n",
    "            gridcolor='lightgrey',  # Set grid line color\n",
    "        ),\n",
    "        legend_title_text='Stock Symbol',\n",
    "        plot_bgcolor='gray',  # Set plot background to white\n",
    "        paper_bgcolor='gray',  # Set overall figure background to white\n",
    "        legend=dict(\n",
    "            bgcolor='gray',  # Optional: Set legend background to white\n",
    "            bordercolor='black'\n",
    "        )\n",
    "    )\n",
    "\n",
    "    # Show the figure\n",
    "    fig.write_image(\"plot.png\")\n",
    "    # Display the image in the termina\n",
    "    # l\n",
    "    display(Image(filename=\"plot.png\"))\n",
    "    #print(f\"![Plot](plot.png)\")\n"
   ]
  },
  {
   "cell_type": "markdown",
   "metadata": {},
   "source": [
    "Main Flow Function <br/>\n",
    "-Call LLM + Tool functions <br/>\n",
    "-Call Tool/Callback Function <br/>\n",
    "-Append Results and SendBack to LLM <br/>\n",
    "-Return Final result from LLM <br/>"
   ]
  },
  {
   "cell_type": "code",
   "execution_count": 8,
   "metadata": {},
   "outputs": [],
   "source": [
    "def call_functions(llm_with_tools, user_prompt):\n",
    "    system_prompt = 'You are a helpful finance assistant that analyzes stocks and stock prices. Today is {today}'.format(today = date.today())\n",
    "\n",
    "    messages = [SystemMessage(system_prompt), HumanMessage(user_prompt)]\n",
    "    ai_msg = llm_with_tools.invoke(messages)\n",
    "    messages.append(ai_msg)\n",
    "    historical_price_dfs = []\n",
    "    symbols = []\n",
    "    for tool_call in ai_msg.tool_calls:\n",
    "        selected_tool = {\"get_stock_info\": get_stock_info, \"get_historical_price\": get_historical_price}[tool_call[\"name\"].lower()]\n",
    "        tool_output = selected_tool.invoke(tool_call[\"args\"])\n",
    "        if tool_call['name'] == 'get_historical_price':\n",
    "            historical_price_dfs.append(tool_output)\n",
    "            symbols.append(tool_output.columns[1])\n",
    "        else:\n",
    "            messages.append(ToolMessage(tool_output, tool_call_id=tool_call[\"id\"]))\n",
    "\n",
    "    if len(historical_price_dfs) > 0:\n",
    "        plot_price_over_time(historical_price_dfs)\n",
    "\n",
    "        symbols = ' and '.join(symbols)\n",
    "        messages.append(ToolMessage('Tell the user that a historical stock price chart for {symbols} been generated.'.format(symbols=symbols), tool_call_id=0))\n",
    "\n",
    "    return llm_with_tools.invoke(messages).content\n"
   ]
  },
  {
   "cell_type": "markdown",
   "metadata": {},
   "source": [
    "Create LLM and Bind Tools <br>\n",
    " 1) what is the stock price for microsoft and nvida ?\n",
    " 2) compare the total revenue between microsoft vs nvida\n",
    " 3) show me the stock price of microsoft for the last 10 days\n",
    " \n"
   ]
  },
  {
   "cell_type": "code",
   "execution_count": null,
   "metadata": {},
   "outputs": [],
   "source": [
    "from dotenv import dotenv_values\n",
    "from langchain_core.pydantic_v1 import BaseModel, Field\n",
    "\n",
    "#get api key\n",
    "config = dotenv_values(\".env\")\n",
    "os.environ[\"GROQ_API_KEY\"] = config[\"GROQ_API_KEY\"]\n",
    "\n",
    "llm = ChatGroq(model = 'llama3-70b-8192')\n",
    "tools = [get_stock_info, get_historical_price]\n",
    "llm_with_tools = llm.bind_tools(tools)\n",
    "\n",
    "while True:\n",
    "    # Get user input from the console\n",
    "    user_input = input(\"You: \")\n",
    "    if user_input.lower() == \"quit\":\n",
    "        break\n",
    "\n",
    "    response = call_functions(llm_with_tools, user_input)\n",
    "\n",
    "    print(\"Assistant:\", response)\n"
   ]
  },
  {
   "cell_type": "code",
   "execution_count": null,
   "metadata": {},
   "outputs": [],
   "source": [
    "import matplotlib.pyplot as plt\n",
    "import matplotlib.image as mpimg\n",
    "image = mpimg.imread('plot.png')\n",
    "plt.imshow(image)\n",
    "#plt.switch_backend('tkagg')\n",
    "#plt.show()"
   ]
  },
  {
   "cell_type": "code",
   "execution_count": null,
   "metadata": {},
   "outputs": [],
   "source": []
  }
 ],
 "metadata": {
  "kernelspec": {
   "display_name": "venv",
   "language": "python",
   "name": "python3"
  },
  "language_info": {
   "codemirror_mode": {
    "name": "ipython",
    "version": 3
   },
   "file_extension": ".py",
   "mimetype": "text/x-python",
   "name": "python",
   "nbconvert_exporter": "python",
   "pygments_lexer": "ipython3",
   "version": "3.11.0"
  }
 },
 "nbformat": 4,
 "nbformat_minor": 2
}
